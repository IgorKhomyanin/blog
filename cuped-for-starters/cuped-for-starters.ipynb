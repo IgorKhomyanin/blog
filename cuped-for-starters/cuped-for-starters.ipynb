{
 "cells": [
  {
   "cell_type": "markdown",
   "id": "e66262fc-dfb4-473f-8e83-aeffbbf00a59",
   "metadata": {},
   "source": [
    "# CUPED for Starters: Enhancing Controlled Experiments with Pre-Experiment Data"
   ]
  },
  {
   "cell_type": "markdown",
   "id": "71376a2d-df18-4230-8d1f-943612297363",
   "metadata": {},
   "source": [
    "### Intro"
   ]
  },
  {
   "cell_type": "markdown",
   "id": "833834d9-5d04-4d64-947e-c42d1be85249",
   "metadata": {},
   "source": [
    "In this article, I will briefly explain the randomized controlled experiments and why modern companies use them to make data-driven decisions. Then, I will introduce you to a CUPED procedure that improves the sensitivity of these experiments. After that, I will show you why it works in theory and practice. We will simulate an ordinary A/B test and compare results with the CUPED-adjusted procedure. We will see empirically that CUPED allows the detection of more minor effects on the same sample size."
   ]
  },
  {
   "cell_type": "markdown",
   "id": "c908fbd8-6a08-47bd-9204-9bbd18127b22",
   "metadata": {},
   "source": [
    "### What are Controlled Experiments, and why do we need them"
   ]
  },
  {
   "cell_type": "markdown",
   "id": "b923b119-7c0d-4f69-898e-6f679b92d20a",
   "metadata": {},
   "source": [
    "Controlled experiments, a cornerstone of data science, are systematic and controlled approaches used to investigate the impact of specific changes, interventions, or treatments on a target system. In these experiments, researchers manipulate one or more variables while keeping other factors constant, creating a controlled environment to accurately observe and measure the effects. The goal is to establish a causal relationship between the manipulated variables and the observed outcomes. Controlled experiments provide valuable insights into cause-and-effect relationships, enabling data scientists, researchers, and decision-makers to make informed choices based on empirical evidence rather than mere correlations or assumptions."
   ]
  },
  {
   "cell_type": "markdown",
   "id": "11ac045c-9ac7-4241-8643-c3a1f9ef10e9",
   "metadata": {},
   "source": [
    "Usually, people encounter controlled experiments in the form of A/B tests. In an A/B test, a single variable (such as a webpage design, machine learning algorithm, or pricing plan) is changed between two versions: A (the control) and B (the variant). The goal of an A/B test is to compare the performance of these two versions to determine which one performs better in a specific metric (e.g., click-through rates, revenue). A/B tests are commonly used in marketing and web optimization to make data-driven decisions about changes to user interfaces or marketing material."
   ]
  },
  {
   "cell_type": "markdown",
   "id": "783f1443-2b33-4cde-b081-9e89d2a24b07",
   "metadata": {},
   "source": [
    "To perform an A/B test, you have to gather some data. The amount of data you need is directly connected to the variance of the metric you want to compare between two groups. The more the chosen metric fluctuates naturally, the more data you need to spot the difference between the two groups. The more data you need, the longer you wait until you get the results. And time is money! That is why Microsoft researchers developed a [CUPED technique](https://dl.acm.org/doi/10.1145/2433396.2433413). This statistical trick helps you to decrease the variance of the tested metric. With lower variance, you need a smaller sample size to spot the same difference, or you can spot a smaller one with the same sample size."
   ]
  },
  {
   "cell_type": "markdown",
   "id": "19dc73a6-9264-4315-a53b-0c24c3e4be62",
   "metadata": {},
   "source": [
    "### What is CUPED and how it works?"
   ]
  },
  {
   "cell_type": "markdown",
   "id": "0e46ad9e-a5fd-4c94-a942-f445fef123dc",
   "metadata": {},
   "source": [
    "CUPED stands for \"Controlled-Experiment using Pre-Experiment Data.\" The idea is simple: modify the metric of interest in a way that its expectation does not change while variance decreases. The exciting part is how to do so! "
   ]
  },
  {
   "cell_type": "markdown",
   "id": "67eb3cd8-febe-4339-b9eb-e0cb2c4920d0",
   "metadata": {},
   "source": [
    "Suppose you want to test if there is a difference in metric $Y$. In a usual A/B test, you would calculate mean value of the metric in control group $\\bar{Y}_{A}$ and then compare it with mean value of the metric in test group $\\bar{Y}_{B}$."
   ]
  },
  {
   "cell_type": "markdown",
   "id": "af6f250c-f129-491b-972f-05adb04c00f7",
   "metadata": {},
   "source": [
    "Researchers suggested this transformation:\n",
    "$$\n",
    "\\hat{Y}_{CUPED} = \\bar{Y} - \\theta(\\bar{X} - E(X))\n",
    "$$\n",
    "Where $X$ is a random variable correlated with $Y$ but not affected by the A/B test, and $\\theta$ is some arbitrary (for now) constant."
   ]
  },
  {
   "cell_type": "markdown",
   "id": "fd670862-9890-482d-9b0f-b5ac6c9b4b33",
   "metadata": {},
   "source": [
    "A great candidate for $X$ is the same metric $Y$ but before the start of the test. Hence, there is \"pre-experiment\" in the name of the method."
   ]
  },
  {
   "cell_type": "markdown",
   "id": "cf5539f1-84f6-4252-a0dd-8d8cb12586f5",
   "metadata": {},
   "source": [
    "But how does this help to decrease variance and not mess up the results? The theoretical explanation in the paper needed to be more specific for me. So, let us derive results by ourselves."
   ]
  },
  {
   "cell_type": "markdown",
   "id": "31a0cab8-f15e-4cfb-bfe1-b0c587b09563",
   "metadata": {},
   "source": [
    "First of all, $\\hat{Y}_{CUPED}$ is an unbiased estimator of $E(Y)$:\n",
    "\n",
    "![CUPED Proof Part 1](./input/CUPED_proof_1.png)"
   ]
  },
  {
   "cell_type": "markdown",
   "id": "3595730a-dc07-4676-8095-f8704bd5e166",
   "metadata": {},
   "source": [
    "Secondly, let us derive the $Var(\\hat{Y}_{CUPED})$:\n",
    "\n",
    "![CUPED Proof Part 1](./input/CUPED_proof_2.png)"
   ]
  },
  {
   "cell_type": "markdown",
   "id": "0d3d34a4-4f35-4cb2-9af2-2260be9d587e",
   "metadata": {},
   "source": [
    "Now, let us find a value of $\\theta$ that minimizes this variance:\n",
    "\n",
    "![CUPED Proof Part 1](./input/CUPED_proof_3.png)"
   ]
  },
  {
   "cell_type": "markdown",
   "id": "d459ccfe-2e68-4950-b718-8ea7ed47467c",
   "metadata": {},
   "source": [
    "With such $\\theta$ we will have $Var(\\hat{Y}_{CUPED})$:\n",
    "\n",
    "![CUPED Proof Part 1](./input/CUPED_proof_4.png)"
   ]
  },
  {
   "cell_type": "markdown",
   "id": "a756405e-8a27-40c7-aa28-dabf08d5e9c8",
   "metadata": {},
   "source": [
    "Cool! Variance is $(1 - \\rho^2)$ times smaller that the variance of our initial estimate $Var(\\bar{Y})$!\n",
    "The higher the correlation between $X$ and $Y$, the higher the variance reduction power."
   ]
  },
  {
   "cell_type": "markdown",
   "id": "ccdceb30-dc3a-4f14-aaa7-182cbfcfd2dc",
   "metadata": {},
   "source": [
    "### How to use CUPED in practice?"
   ]
  },
  {
   "cell_type": "markdown",
   "id": "f9b9675e-2a8f-4524-8fe3-913676da973d",
   "metadata": {},
   "source": [
    "Enough theory for today! Let us apply this technique to a real-world problem."
   ]
  },
  {
   "cell_type": "markdown",
   "id": "5770f6e0-7728-480e-a95e-0bd27c281368",
   "metadata": {},
   "source": [
    "Suppose we are working for some food delivery service (like Uber Eats, for example). Each restaurant has a display of meals users can order. There are so many meals that we want to recommend something to the user to speed up the choosing process. The faster he places an order, the quicker he gets his food, and the faster he becomes happy!"
   ]
  },
  {
   "cell_type": "markdown",
   "id": "3fcb88b2-83ca-4978-ba8a-6d75cfeab2c4",
   "metadata": {},
   "source": [
    "We already have a recommendation engine A, but the ML team has introduced another recommendation engine B. Now we want to understand which engine is better. We need an A/B test! Let us randomly expose each user to either engine A or engine B. Now, we need a metric to compare between two groups. Money is the best metric as each business tries to maximize its profits. So, let us measure the commission revenue from users within two weeks."
   ]
  },
  {
   "cell_type": "markdown",
   "id": "53743eec-4fcf-4f4a-b80a-a44db64c411f",
   "metadata": {},
   "source": [
    "I have prepared a simple dataset that represents this A/B test. Each row represents a user.\n",
    "Here is an explanation of what each column means:\n",
    "1. `group` - is either `test` or `control`; if it is `test`, then the user is in the group with new recommendation engine\n",
    "2. `user_id` - a unique identifier of a user\n",
    "3. `commission_revenue_pre` - commission revenue company got from orders of this user in a pre-experiment period\n",
    "4. `commission_revenue_exp` - commission revenue company for from order of this user during an experiment period"
   ]
  },
  {
   "cell_type": "markdown",
   "id": "0edfe023-0a6f-45ff-9671-37e488174909",
   "metadata": {},
   "source": [
    "The only thing different from real life here is that I know exactly how a new engine impacts the metric. If a user is exposed to engine B, his `commission_revenue_exp` will increase by 2%."
   ]
  },
  {
   "cell_type": "markdown",
   "id": "397d8206-7f87-4cc1-91c3-396dfa055cac",
   "metadata": {},
   "source": [
    "Let us do the usual A/B test comparing average `commission_revenue_exp` for two engines using a t-test (assume that all assumptions hold, and we can use it here). "
   ]
  },
  {
   "cell_type": "markdown",
   "id": "3180bdff-dab9-4626-8d20-463125f91eff",
   "metadata": {},
   "source": [
    "First of all, we need to import some useful libraries."
   ]
  },
  {
   "cell_type": "code",
   "execution_count": 1,
   "id": "c3f1b4f4-bfe3-4e12-8acb-0bee37eb5df3",
   "metadata": {},
   "outputs": [],
   "source": [
    "import matplotlib.pyplot as plt\n",
    "import numpy as np\n",
    "import pandas as pd\n",
    "from scipy import stats"
   ]
  },
  {
   "cell_type": "markdown",
   "id": "e79b8df8-4a04-4c3d-839c-1d0d3f3aaf04",
   "metadata": {},
   "source": [
    "Now, let's load the data:"
   ]
  },
  {
   "cell_type": "code",
   "execution_count": 2,
   "id": "e0f6c8f5-b2e8-462d-9799-b1702988f8a9",
   "metadata": {},
   "outputs": [
    {
     "data": {
      "text/html": [
       "<div>\n",
       "<style scoped>\n",
       "    .dataframe tbody tr th:only-of-type {\n",
       "        vertical-align: middle;\n",
       "    }\n",
       "\n",
       "    .dataframe tbody tr th {\n",
       "        vertical-align: top;\n",
       "    }\n",
       "\n",
       "    .dataframe thead th {\n",
       "        text-align: right;\n",
       "    }\n",
       "</style>\n",
       "<table border=\"1\" class=\"dataframe\">\n",
       "  <thead>\n",
       "    <tr style=\"text-align: right;\">\n",
       "      <th></th>\n",
       "      <th>group</th>\n",
       "      <th>user_id</th>\n",
       "      <th>commission_revenue_pre</th>\n",
       "      <th>commission_revenue_exp</th>\n",
       "    </tr>\n",
       "  </thead>\n",
       "  <tbody>\n",
       "    <tr>\n",
       "      <th>393</th>\n",
       "      <td>test</td>\n",
       "      <td>85d2c688-5d8b-4030-91d9-0691f47dfa8a</td>\n",
       "      <td>130.753108</td>\n",
       "      <td>142.429411</td>\n",
       "    </tr>\n",
       "    <tr>\n",
       "      <th>1323</th>\n",
       "      <td>test</td>\n",
       "      <td>01becda6-86e4-471f-9b27-3c578c322829</td>\n",
       "      <td>139.153649</td>\n",
       "      <td>147.180470</td>\n",
       "    </tr>\n",
       "    <tr>\n",
       "      <th>134</th>\n",
       "      <td>test</td>\n",
       "      <td>3efacf74-9693-468d-b78e-7bb11b6b37ca</td>\n",
       "      <td>115.448414</td>\n",
       "      <td>104.440638</td>\n",
       "    </tr>\n",
       "    <tr>\n",
       "      <th>147</th>\n",
       "      <td>control</td>\n",
       "      <td>25d796c4-3962-4c60-b376-de65d37f36ff</td>\n",
       "      <td>101.103246</td>\n",
       "      <td>102.259490</td>\n",
       "    </tr>\n",
       "    <tr>\n",
       "      <th>224</th>\n",
       "      <td>control</td>\n",
       "      <td>1f5570b2-9d7f-4043-aec4-66140d01350c</td>\n",
       "      <td>NaN</td>\n",
       "      <td>71.767811</td>\n",
       "    </tr>\n",
       "    <tr>\n",
       "      <th>657</th>\n",
       "      <td>test</td>\n",
       "      <td>54874c33-0f73-481b-b3c2-5da390106f67</td>\n",
       "      <td>58.588021</td>\n",
       "      <td>64.410593</td>\n",
       "    </tr>\n",
       "    <tr>\n",
       "      <th>287</th>\n",
       "      <td>test</td>\n",
       "      <td>e94bafca-d719-462c-9ab6-cfde609de972</td>\n",
       "      <td>115.613434</td>\n",
       "      <td>106.507325</td>\n",
       "    </tr>\n",
       "    <tr>\n",
       "      <th>939</th>\n",
       "      <td>control</td>\n",
       "      <td>9ddd3711-7d9f-475a-8a5d-b758b929a1fd</td>\n",
       "      <td>83.859978</td>\n",
       "      <td>89.201692</td>\n",
       "    </tr>\n",
       "    <tr>\n",
       "      <th>1131</th>\n",
       "      <td>test</td>\n",
       "      <td>b07ac058-4ac8-4858-9152-2538d980ad9a</td>\n",
       "      <td>83.948000</td>\n",
       "      <td>70.460465</td>\n",
       "    </tr>\n",
       "    <tr>\n",
       "      <th>1821</th>\n",
       "      <td>control</td>\n",
       "      <td>46476122-3869-433f-a785-5df615cde0a7</td>\n",
       "      <td>159.957868</td>\n",
       "      <td>136.278364</td>\n",
       "    </tr>\n",
       "  </tbody>\n",
       "</table>\n",
       "</div>"
      ],
      "text/plain": [
       "        group                               user_id  commission_revenue_pre  \\\n",
       "393      test  85d2c688-5d8b-4030-91d9-0691f47dfa8a              130.753108   \n",
       "1323     test  01becda6-86e4-471f-9b27-3c578c322829              139.153649   \n",
       "134      test  3efacf74-9693-468d-b78e-7bb11b6b37ca              115.448414   \n",
       "147   control  25d796c4-3962-4c60-b376-de65d37f36ff              101.103246   \n",
       "224   control  1f5570b2-9d7f-4043-aec4-66140d01350c                     NaN   \n",
       "657      test  54874c33-0f73-481b-b3c2-5da390106f67               58.588021   \n",
       "287      test  e94bafca-d719-462c-9ab6-cfde609de972              115.613434   \n",
       "939   control  9ddd3711-7d9f-475a-8a5d-b758b929a1fd               83.859978   \n",
       "1131     test  b07ac058-4ac8-4858-9152-2538d980ad9a               83.948000   \n",
       "1821  control  46476122-3869-433f-a785-5df615cde0a7              159.957868   \n",
       "\n",
       "      commission_revenue_exp  \n",
       "393               142.429411  \n",
       "1323              147.180470  \n",
       "134               104.440638  \n",
       "147               102.259490  \n",
       "224                71.767811  \n",
       "657                64.410593  \n",
       "287               106.507325  \n",
       "939                89.201692  \n",
       "1131               70.460465  \n",
       "1821              136.278364  "
      ]
     },
     "execution_count": 2,
     "metadata": {},
     "output_type": "execute_result"
    }
   ],
   "source": [
    "exp_data = pd.read_csv('./input/commission_revenue.csv')\n",
    "\n",
    "exp_data.sample(10)"
   ]
  },
  {
   "cell_type": "code",
   "execution_count": 3,
   "id": "36b75334-7fe0-43bf-b8b8-4f276979b9f6",
   "metadata": {},
   "outputs": [
    {
     "name": "stdout",
     "output_type": "stream",
     "text": [
      "<class 'pandas.core.frame.DataFrame'>\n",
      "RangeIndex: 2000 entries, 0 to 1999\n",
      "Data columns (total 4 columns):\n",
      " #   Column                  Non-Null Count  Dtype  \n",
      "---  ------                  --------------  -----  \n",
      " 0   group                   2000 non-null   object \n",
      " 1   user_id                 2000 non-null   object \n",
      " 2   commission_revenue_pre  1963 non-null   float64\n",
      " 3   commission_revenue_exp  2000 non-null   float64\n",
      "dtypes: float64(2), object(2)\n",
      "memory usage: 62.6+ KB\n"
     ]
    }
   ],
   "source": [
    "exp_data.info()"
   ]
  },
  {
   "cell_type": "markdown",
   "id": "38131e11-db21-44ff-ba30-9ce71cee9e3d",
   "metadata": {},
   "source": [
    "Let's have a look at the average commission revenue during the experiment in two groups:"
   ]
  },
  {
   "cell_type": "code",
   "execution_count": 4,
   "id": "1cb034e6-4714-42f1-88e8-c3db4a5663f3",
   "metadata": {},
   "outputs": [
    {
     "name": "stdout",
     "output_type": "stream",
     "text": [
      "In a test group (new engine B), the metric is on average equal to 101.73\n",
      "In a control group (old engine A), the metric is on average equal to 99.24\n",
      "Relative increase is equal to 2.5%\n"
     ]
    }
   ],
   "source": [
    "commission_revenue_exp_test_avg = exp_data[exp_data['group'] == 'test']['commission_revenue_exp'].mean()\n",
    "commission_revenue_exp_control_avg = exp_data[exp_data['group'] == 'control']['commission_revenue_exp'].mean()\n",
    "\n",
    "print(f'In a test group (new engine B), the metric is on average equal to {commission_revenue_exp_test_avg:0.2f}')\n",
    "print(f'In a control group (old engine A), the metric is on average equal to {commission_revenue_exp_control_avg:0.2f}')\n",
    "print(f'Relative increase is equal to {100.0 * (commission_revenue_exp_test_avg / commission_revenue_exp_control_avg - 1):0.1f}%')"
   ]
  },
  {
   "cell_type": "markdown",
   "id": "f865679f-8b88-4440-9bbb-b0b770548941",
   "metadata": {},
   "source": [
    "We already know that engine B increases metric by two percent because data was synthetically created. But in the real world, we need to run some statistical procedures to understand whether this increase is statistically significant. Maybe we were just lucky to get this result."
   ]
  },
  {
   "cell_type": "markdown",
   "id": "7fba67a7-317b-4673-b3b5-f58a7595fa12",
   "metadata": {},
   "source": [
    "Using [Student's t-tets](https://en.wikipedia.org/wiki/Student%27s_t-test), we can test a hypothesis of zero difference in the averages of two groups. Let's use $alpha = 0.05$ for this test, meaning that we will test this hypothesis at a 5% significance level."
   ]
  },
  {
   "cell_type": "code",
   "execution_count": 5,
   "id": "13b7b3d2-c192-4930-9e35-1ffb7870c02f",
   "metadata": {},
   "outputs": [
    {
     "data": {
      "text/plain": [
       "Ttest_indResult(statistic=1.8021000484396446, pvalue=0.0716803352566017)"
      ]
     },
     "execution_count": 5,
     "metadata": {},
     "output_type": "execute_result"
    }
   ],
   "source": [
    "stats.ttest_ind(\n",
    "    exp_data[exp_data['group'] == 'test']['commission_revenue_exp'], \n",
    "    exp_data[exp_data['group'] == 'control']['commission_revenue_exp']\n",
    ")"
   ]
  },
  {
   "cell_type": "markdown",
   "id": "55dba0da-2e5b-43ef-95e4-a9ec8da32abb",
   "metadata": {},
   "source": [
    "We got a p-value near $0.07$, which is definitely greater than $0.05 / 2 = 0.025$. Then, we cannot reject the null hypothesis of equal averages. This means we did not see any statistically significant improvement in the target metric from using the new recommendation engine B in production."
   ]
  },
  {
   "cell_type": "markdown",
   "id": "6cfd4bc5-cdea-4cf2-95fa-518230205d6e",
   "metadata": {},
   "source": [
    "You may ask how this happened, if we know there must be an increase of 2%. When we have an infinite number of observations, sample means are equal to population means (because of [central limit theorem](https://en.wikipedia.org/wiki/Central_limit_theorem)). Unfortunately, we have to operate with finite samples in our experiments. This introduces some variation in our estimates of the parameters of distributions. So, we always have some margin of error in our estimates. And the smaller the sample size, the bigger the margin or error. When the sample size is not big enough, we cannot say that the difference between two samples is not present because of random associated with finite sample size."
   ]
  },
  {
   "cell_type": "markdown",
   "id": "02eefd3d-fda3-4a3e-ad0a-3760804b9431",
   "metadata": {},
   "source": [
    "As discussed earlier, CUPED can help us improve sensitivity by decreasing the metric variance we compare between two groups. Ultimately, this means we can detect smaller parameter changes for the same sample size. Let's make a CUPED transformation using `commission_revenue_pre`. We can do so because `commission_revenue_pre` is highly likely to be correlated with `commission_revenue_exp` because this is the same metric of the same users but in different time periods. But `commission_revenue_pre` is not affected by the new engine B because engine B was introduced after the metric was calculated. Hence, `commission_revenue_pre` is a fantastic candidate for `X`."
   ]
  },
  {
   "cell_type": "markdown",
   "id": "2266ec70-d3ab-4b75-9aa1-ec1c81ad80c2",
   "metadata": {},
   "source": [
    "A closer look at the data shows that not all users have a `commission_revenue_pre` defined. This is absolutely normal in the real world - some users do not have pre-experiment data because they were not users before the experiment! We need to understand what to do with \"newbies\". Here, we can rely on the experience of Booking.com on how to handle missing data. They [suggest](https://booking.ai/how-booking-com-increases-the-power-of-online-experiments-with-cuped-995d186fff1d) to do nothing to the metric in case pre-experiment data is not available. The idea behind this trick is straightforward. When there is a missing value, you want to fill it with an average derived from the samples where this value is not missing. So, you will plug $\\bar{X}$ into the $X_i$ in CUPED transformation, and it will be canceled out with $E(X)$ with a big enough sample size!"
   ]
  },
  {
   "cell_type": "markdown",
   "id": "219e5b9c-d4b9-4876-9f61-e992695cb06a",
   "metadata": {},
   "source": [
    "Now, let's calculate $\\theta$, handle missing values, and make sure that the CUPED transformation yields an unbiased estimate:"
   ]
  },
  {
   "cell_type": "code",
   "execution_count": 6,
   "id": "eb8e3f3f-5f1c-41f1-8025-3d6fa2fae4a1",
   "metadata": {},
   "outputs": [
    {
     "data": {
      "text/plain": [
       "0.8818300441315146"
      ]
     },
     "execution_count": 6,
     "metadata": {},
     "output_type": "execute_result"
    }
   ],
   "source": [
    "not_null_pre = ~exp_data['commission_revenue_pre'].isna()\n",
    "\n",
    "cov_X_Y = np.cov(exp_data[not_null_pre]['commission_revenue_pre'], \n",
    "                 exp_data[not_null_pre]['commission_revenue_exp'],\n",
    "                 ddof=1)[0, 1]\n",
    "\n",
    "var_X = np.var(exp_data[not_null_pre]['commission_revenue_pre'], ddof=1)\n",
    "\n",
    "corr_X_Y = np.corrcoef([exp_data[not_null_pre]['commission_revenue_pre'], \n",
    "                        exp_data[not_null_pre]['commission_revenue_exp']])[0,1]\n",
    "\n",
    "theta = cov_X_Y / var_X\n",
    "\n",
    "theta"
   ]
  },
  {
   "cell_type": "code",
   "execution_count": 7,
   "id": "4f6d2db3-a997-4c17-ac7e-5b57d179c361",
   "metadata": {},
   "outputs": [],
   "source": [
    "exp_data['commission_revenue_exp_cuped'] = np.where(\n",
    "    not_null_pre,\n",
    "    exp_data['commission_revenue_exp'] - theta * (\n",
    "        exp_data['commission_revenue_pre'] - exp_data['commission_revenue_pre'].mean()\n",
    "    ),\n",
    "    exp_data['commission_revenue_exp']\n",
    ")"
   ]
  },
  {
   "cell_type": "code",
   "execution_count": 8,
   "id": "473b8719-6109-40a9-9698-cb30a6c0c7c3",
   "metadata": {},
   "outputs": [
    {
     "name": "stdout",
     "output_type": "stream",
     "text": [
      "In a test group (new engine B), the CUPED-metric is on average equal to 101.69\n",
      "In a control group (old engine A), the CUPED_metric is on average equal to 99.28\n",
      "Relative increase is equal to 2.4%\n"
     ]
    }
   ],
   "source": [
    "commission_revenue_exp_cuped_test_avg = exp_data[exp_data['group'] == 'test']['commission_revenue_exp_cuped'].mean()\n",
    "commission_revenue_exp_cuped_control_avg = exp_data[exp_data['group'] == 'control']['commission_revenue_exp_cuped'].mean()\n",
    "\n",
    "print(f'In a test group (new engine B), the CUPED-metric is on average equal to {commission_revenue_exp_cuped_test_avg:0.2f}')\n",
    "print(f'In a control group (old engine A), the CUPED_metric is on average equal to {commission_revenue_exp_cuped_control_avg:0.2f}')\n",
    "print(f'Relative increase is equal to {100.0 * (commission_revenue_exp_cuped_test_avg / commission_revenue_exp_cuped_control_avg - 1):0.1f}%')"
   ]
  },
  {
   "cell_type": "markdown",
   "id": "d4b31d79-3181-4f57-9e88-8adb8ac9f6da",
   "metadata": {},
   "source": [
    "In the test group, we got 101.73 before transformation and 101.69 after. A 0.04 absolute difference appears because $\\bar{X} = E(X)$ only in the limit where we have an infinite number of samples. In our real-world case, the sample size is finite. Hence, we have some differences."
   ]
  },
  {
   "cell_type": "markdown",
   "id": "852faa75-cf76-45a1-bca2-d96967350f38",
   "metadata": {},
   "source": [
    "Somewhere above, we have proved that the variance of sample average CUPED-metric is $(1-\\rho^2)$ times smaller, where $\\rho$ is a correlation between $Y$ and $X$. So, we must see this in the data also."
   ]
  },
  {
   "cell_type": "code",
   "execution_count": 9,
   "id": "e712f0f5-9fb7-491d-a893-62f42891a125",
   "metadata": {},
   "outputs": [
    {
     "name": "stdout",
     "output_type": "stream",
     "text": [
      "Var(Y_bar) = 1.00\n",
      "Var(Y_CUPED_bar) = 0.21\n",
      "(1 - rho^2) = 0.210\n",
      "Var(Y_CUPED_bar) / Var(Y_bar) = 0.210\n"
     ]
    }
   ],
   "source": [
    "var_Y = np.std(exp_data[exp_data['group'] == 'test']['commission_revenue_exp'])**2\n",
    "var_Y_bar = var_Y / len(exp_data[exp_data['group'] == 'test'])\n",
    "\n",
    "var_Y_CUPED = np.std(exp_data[exp_data['group'] == 'test']['commission_revenue_exp_cuped'])**2\n",
    "var_Y_CUPED_bar = var_Y_CUPED / len(exp_data[exp_data['group'] == 'test'])\n",
    "\n",
    "print(f'Var(Y_bar) = {var_Y_bar:0.2f}')\n",
    "print(f'Var(Y_CUPED_bar) = {var_Y_CUPED_bar:0.2f}')\n",
    "print(f'(1 - rho^2) = {1 - corr_X_Y**2:0.3f}')\n",
    "print(f'Var(Y_CUPED_bar) / Var(Y_bar) = {var_Y_CUPED_bar / var_Y_bar:0.3f}')"
   ]
  },
  {
   "cell_type": "markdown",
   "id": "926a8486-da75-4482-becd-5087966ca5f3",
   "metadata": {},
   "source": [
    "Amazing, empirics supports theory!"
   ]
  },
  {
   "cell_type": "markdown",
   "id": "5cdcfb18-0584-47e7-a732-374d4257cce6",
   "metadata": {},
   "source": [
    "A decrease in variance can also be visualized easily. We assume that the metric is normally distributed. Metric with lower variance would have a \"slimmer\" probability mass function with a \"taller\" peak:"
   ]
  },
  {
   "cell_type": "code",
   "execution_count": 10,
   "id": "cb234be6-e9d0-4459-ab1c-fa9dd9a4c49b",
   "metadata": {},
   "outputs": [
    {
     "data": {
      "image/png": "[encoded data removed]",
      "text/plain": [
       "<Figure size 1000x500 with 1 Axes>"
      ]
     },
     "metadata": {},
     "output_type": "display_data"
    }
   ],
   "source": [
    "plt.figure(figsize=(10, 5))\n",
    "\n",
    "plt.hist(exp_data[exp_data['group'] == 'test']['commission_revenue_exp'], \n",
    "         bins=np.arange(0.0, 200.0, 10.0), \n",
    "         alpha=0.35,\n",
    "         label='Initial')\n",
    "\n",
    "plt.hist(exp_data[exp_data['group'] == 'test']['commission_revenue_exp_cuped'], \n",
    "         bins=np.arange(0.0, 200.0, 10.0), \n",
    "         alpha=0.35,\n",
    "         label='CUPED transformed')\n",
    "\n",
    "plt.legend()\n",
    "\n",
    "plt.xlabel('Comission Revenue')\n",
    "plt.ylabel('# users')\n",
    "\n",
    "plt.title('Distribution of initial and transformed Commission Revenue in the test group.')\n",
    "\n",
    "plt.savefig('./output/distributions.png', bbox_inches='tight', dpi=100)\n",
    "\n",
    "plt.show()"
   ]
  },
  {
   "cell_type": "markdown",
   "id": "237de3a1-de74-46d1-a883-95134f5cc714",
   "metadata": {},
   "source": [
    "We are sure the transformed metric is an unbiased estimator empirically and theoretically. We have seen that variance indeed decreases with such transformation. It is time to rerun our A/B test using the transformed metric."
   ]
  },
  {
   "cell_type": "code",
   "execution_count": 11,
   "id": "b279c09c-42c1-43f0-9694-da2788bc8d21",
   "metadata": {},
   "outputs": [
    {
     "data": {
      "text/plain": [
       "Ttest_indResult(statistic=3.7257956767943394, pvalue=0.00020010540422191647)"
      ]
     },
     "execution_count": 11,
     "metadata": {},
     "output_type": "execute_result"
    }
   ],
   "source": [
    "stats.ttest_ind(\n",
    "    exp_data[exp_data['group'] == 'test']['commission_revenue_exp_cuped'], \n",
    "    exp_data[exp_data['group'] == 'control']['commission_revenue_exp_cuped']\n",
    ")"
   ]
  },
  {
   "cell_type": "markdown",
   "id": "8b7b677e-0cec-4028-b8bf-46b6747b5f1b",
   "metadata": {},
   "source": [
    "The p-value is $0.0002$, lower than $0.025$ by at least one order! Finally, we've got a statistically significant result! We now have statistical and data-driven proof that the engine's B recommendations increase commission revenue. Based on the results, we can recommend rolling out new functionality to 100% of users to increase the metric by two 2% of the full scale of a company."
   ]
  },
  {
   "cell_type": "markdown",
   "id": "39568d7a-fc53-4f85-97b7-42dbf4dbd9cc",
   "metadata": {},
   "source": [
    "### Conclusion"
   ]
  },
  {
   "cell_type": "markdown",
   "id": "f908be26-d6d7-47bb-8a44-07c6c08a600d",
   "metadata": {},
   "source": [
    "I hope now it is clear what CUPED is and how it can enhance your A/B experiments in production. In the article, we went through the theoretical foundations of CUPED and had hands-on experience applying it to a real-life A/B test.\n",
    "\n",
    "If you have any questions, do not hesitate to reach out on [LinkedIn](https://www.linkedin.com/in/igorkhomyanin/) :)"
   ]
  },
  {
   "cell_type": "markdown",
   "id": "cf7fa46f-c379-4d6b-9181-6f79638a4645",
   "metadata": {},
   "source": [
    "### References"
   ]
  },
  {
   "cell_type": "markdown",
   "id": "5cf04ed2-87a2-4859-ad7b-6ddc319faf8b",
   "metadata": {},
   "source": [
    "1. Kohavi, Ron & Deng, Alex & Xu, Ya & Walker, Toby. (2013). Improving the Sensitivity of Online Controlled Experiments by Utilizing Pre-Experiment Data. 10.1145/2433396.2433413. \n",
    "2. https://en.wikipedia.org/wiki/Student%27s_t-test\n",
    "3. https://en.wikipedia.org/wiki/Central_limit_theorem\n",
    "4. \"How Booking.com increases the power of online experiments with CUPED\" by Simon Jackson at https://booking.ai/how-booking-com-increases-the-power-of-online-experiments-with-cuped-995d186fff1d "
   ]
  }
 ],
 "metadata": {
  "kernelspec": {
   "display_name": "Python 3.11.0 (ds_env)",
   "language": "python",
   "name": "ds_env"
  },
  "language_info": {
   "codemirror_mode": {
    "name": "ipython",
    "version": 3
   },
   "file_extension": ".py",
   "mimetype": "text/x-python",
   "name": "python",
   "nbconvert_exporter": "python",
   "pygments_lexer": "ipython3",
   "version": "3.11.0"
  }
 },
 "nbformat": 4,
 "nbformat_minor": 5
}
