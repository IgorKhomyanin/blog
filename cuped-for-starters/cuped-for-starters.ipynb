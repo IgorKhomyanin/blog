{
 "cells": [
  {
   "cell_type": "markdown",
   "id": "e66262fc-dfb4-473f-8e83-aeffbbf00a59",
   "metadata": {},
   "source": [
    "# CUPED for Starters: Enhancing Controlled Experiments with Pre-Experiment Data"
   ]
  },
  {
   "cell_type": "markdown",
   "id": "71376a2d-df18-4230-8d1f-943612297363",
   "metadata": {},
   "source": [
    "### Intro"
   ]
  },
  {
   "cell_type": "markdown",
   "id": "833834d9-5d04-4d64-947e-c42d1be85249",
   "metadata": {},
   "source": [
    "In this article I am going to explain what are the randomized controlled experiments and why modern companies use them. Then I will explain what is a CUPED and why it works in theory. After it we will run a simulation of an A/B test without any adjustment to the ordinary procedure. And then comapre results with CUPED adjusted procedure to see that CUPED allows to detect smaller results on the same sample size"
   ]
  },
  {
   "cell_type": "markdown",
   "id": "c908fbd8-6a08-47bd-9204-9bbd18127b22",
   "metadata": {},
   "source": [
    "### What are Controlled Experiments and why we need them"
   ]
  },
  {
   "cell_type": "markdown",
   "id": "b923b119-7c0d-4f69-898e-6f679b92d20a",
   "metadata": {},
   "source": [
    "Controlled experiments, a cornerstone of data science, are systematic and controlled approaches used to investigate the impact of specific changes, interventions, or treatments on a target system. In these experiments, researchers manipulate one or more variables while keeping other factors constant, creating a controlled environment to observe and measure the effects accurately. The goal is to establish a causal relationship between the manipulated variables and the observed outcomes. Controlled experiments provide valuable insights into cause-and-effect relationships, enabling data scientists, researchers, and decision-makers to make informed choices based on empirical evidence rather than mere correlations or assumptions."
   ]
  },
  {
   "cell_type": "markdown",
   "id": "11ac045c-9ac7-4241-8643-c3a1f9ef10e9",
   "metadata": {},
   "source": [
    "Usually, people encounter controlled experiments in a form of A/B tests. In an A/B test, a single variable (such as a webpage layout, email subject line, or advertisement) is changed between two versions: A (the control) and B (the variant). The goal of an A/B test is to compare the performance of these two versions to determine which one performs better in terms of a specific metric (e.g., click-through rates, conversion rates). A/B tests are commonly used in marketing and web optimization to make data-driven decisions about changes to user interfaces or marketing materials."
   ]
  },
  {
   "cell_type": "markdown",
   "id": "783f1443-2b33-4cde-b081-9e89d2a24b07",
   "metadata": {},
   "source": [
    "To perform an A/B test you have to gather some data. Amount of data you need is directly connected to the variance of the metric you want to compare between two groups. The more chosen metric fluctuates naturally, the more data you need to spot the difference between two groups. The more data you need, the longer you will wait till you get the results. And time is money! That is is why researchers at Microsoft came up with a [CUPED technique](https://dl.acm.org/doi/10.1145/2433396.2433413). This statistical trick helps you to decrease variance of the tested metric. With lower variance you either need smaller sample size to spot the same difference, or you can spot smaller difference with the same sample size."
   ]
  },
  {
   "cell_type": "markdown",
   "id": "19dc73a6-9264-4315-a53b-0c24c3e4be62",
   "metadata": {},
   "source": [
    "### What is CUPED and how it works?"
   ]
  },
  {
   "cell_type": "markdown",
   "id": "0e46ad9e-a5fd-4c94-a942-f445fef123dc",
   "metadata": {},
   "source": [
    "CUPED stands for \"Controlled-Experiment using Pre-Experiment Data\". Idea is simple, modify  metric of interest in a way that its expectation does not change while variance decreases. Interesting part is how to do so! "
   ]
  },
  {
   "cell_type": "markdown",
   "id": "67eb3cd8-febe-4339-b9eb-e0cb2c4920d0",
   "metadata": {},
   "source": [
    "Suppose you want to test if there is difference in metric $Y$. In a usual A/B test, you would calculate mean value of the metric in control group $\\bar{Y}_{A}$ and then compare it with mean value of the metric in test group $\\bar{Y}_{B}$. "
   ]
  },
  {
   "cell_type": "markdown",
   "id": "af6f250c-f129-491b-972f-05adb04c00f7",
   "metadata": {},
   "source": [
    "Researches suggested this transformation:\n",
    "$$\n",
    "\\hat{Y}_{CUPED} = \\bar{Y} - \\theta(\\bar{X} - E(X))\n",
    "$$\n",
    "Where $X$ is a random variable that is correlated with $Y$ but not affected by A/B test. And $\\theta$ is some arbitrary (for now) constant."
   ]
  },
  {
   "cell_type": "markdown",
   "id": "fd670862-9890-482d-9b0f-b5ac6c9b4b33",
   "metadata": {},
   "source": [
    "Great candidate for $X$ is the same metric $Y$ but before the start of the test. Hence, there is \"pre-experiment\" in the name of the method."
   ]
  },
  {
   "cell_type": "markdown",
   "id": "cf5539f1-84f6-4252-a0dd-8d8cb12586f5",
   "metadata": {},
   "source": [
    "But how this helps to decrease variance and not mess up the results? Theoretical explanation in the paper was not easy enough for me. So, let us derive results by ourselves."
   ]
  },
  {
   "cell_type": "markdown",
   "id": "31a0cab8-f15e-4cfb-bfe1-b0c587b09563",
   "metadata": {},
   "source": [
    "First of all, $\\hat{Y}_{CUPED}$ is an unbiased estimator of $E(Y)$:\n",
    "\n",
    "**HERE WILL BE A HAND WRITTEN PROOF**"
   ]
  },
  {
   "cell_type": "markdown",
   "id": "3595730a-dc07-4676-8095-f8704bd5e166",
   "metadata": {},
   "source": [
    "Secondly, let us derive the $Var(\\hat{Y}_{CUPED})$:\n",
    "\n",
    "**HERE WILL BE A HAND WRITTEN PROOF**"
   ]
  },
  {
   "cell_type": "markdown",
   "id": "0d3d34a4-4f35-4cb2-9af2-2260be9d587e",
   "metadata": {},
   "source": [
    "Now, let us find a value of $\\theta$ that minimize this variance:\n",
    "\n",
    "**HERE WILL BE A HAND WRITTEN PROOF**"
   ]
  },
  {
   "cell_type": "markdown",
   "id": "d459ccfe-2e68-4950-b718-8ea7ed47467c",
   "metadata": {},
   "source": [
    "With such $\\theta$ we will have $Var(\\hat{Y}_{CUPED})$:\n",
    "\n",
    "**HERE WILL BE A HAND WRITTEN PROOF**"
   ]
  },
  {
   "cell_type": "markdown",
   "id": "a756405e-8a27-40c7-aa28-dabf08d5e9c8",
   "metadata": {},
   "source": [
    "Cool! Variance is $(1 - \\rho^2)$ times smaller that the variance of our initial estimate $Var(\\bar{Y})$!\n",
    "The higher the correlation between $X$ and $Y$, the higher is the variance reduction power."
   ]
  },
  {
   "cell_type": "markdown",
   "id": "ccdceb30-dc3a-4f14-aaa7-182cbfcfd2dc",
   "metadata": {},
   "source": [
    "### How to use CUPED in practice?"
   ]
  },
  {
   "cell_type": "markdown",
   "id": "f9b9675e-2a8f-4524-8fe3-913676da973d",
   "metadata": {},
   "source": [
    "Enough theory for today, let us apply this technique to a real world problem."
   ]
  },
  {
   "cell_type": "markdown",
   "id": "5770f6e0-7728-480e-a95e-0bd27c281368",
   "metadata": {},
   "source": [
    "Suppose we are working for some food delivery service (like Uber Eats, for example). Each restaurant there has a display of meals user can order. There are soo many meals that we want to recommend something to user to speed up choosing process. The faster he places an order, the faster he get his food, the faster he become happy! "
   ]
  },
  {
   "cell_type": "markdown",
   "id": "3fcb88b2-83ca-4978-ba8a-6d75cfeab2c4",
   "metadata": {},
   "source": [
    "We already have a recommendation engine A, but ML team introduce another recommendation engine B. Now we want to understand which engine is better. We need and A/B test! Let us randomly expose each user to either engine A or engine B. Now we need some metric to compare between two groups. In my opinion, money is the best metric as each business tries to maximize its profits. So let us measure commission revenue that we get from user within two weeks!"
   ]
  },
  {
   "cell_type": "markdown",
   "id": "53743eec-4fcf-4f4a-b80a-a44db64c411f",
   "metadata": {},
   "source": [
    "I have prepared a simple dataset that represents this A/B test. Each row represents a user.\n",
    "Here is an explanation what each column means:\n",
    "1. `group` - is either `test` or `control`, if it is `test` then user is in the group with new recommendation engine\n",
    "2. `user_id` - unique identifier of a user\n",
    "3. `commission_revenue_pre` - comission revenue company got from orders of this user in a pre-experiment period\n",
    "4. `commission_revenue_exp` - comission revenuew conapmy for from order of this user during an experiment period"
   ]
  },
  {
   "cell_type": "markdown",
   "id": "0edfe023-0a6f-45ff-9671-37e488174909",
   "metadata": {},
   "source": [
    "The only thing that is different from real-life here is that I know exactly what was the impact of a new engine on the metric. If user is exposed to engine B, his `commission_revenue_exp` will increase by 2%."
   ]
  },
  {
   "cell_type": "markdown",
   "id": "397d8206-7f87-4cc1-91c3-396dfa055cac",
   "metadata": {},
   "source": [
    "Let us do the usual A/B test comparing average `commission_revenue_exp` for two engines using t-test (assume that all assumptions hold and we can use it here). "
   ]
  },
  {
   "cell_type": "markdown",
   "id": "3180bdff-dab9-4626-8d20-463125f91eff",
   "metadata": {},
   "source": [
    "First of all, we need to import some useful libraries"
   ]
  },
  {
   "cell_type": "code",
   "execution_count": 1,
   "id": "c3f1b4f4-bfe3-4e12-8acb-0bee37eb5df3",
   "metadata": {},
   "outputs": [],
   "source": [
    "import matplotlib.pyplot as plt\n",
    "import numpy as np\n",
    "import pandas as pd\n",
    "from scipy import stats"
   ]
  },
  {
   "cell_type": "markdown",
   "id": "e79b8df8-4a04-4c3d-839c-1d0d3f3aaf04",
   "metadata": {},
   "source": [
    "Now, let's load the data"
   ]
  },
  {
   "cell_type": "code",
   "execution_count": 2,
   "id": "e0f6c8f5-b2e8-462d-9799-b1702988f8a9",
   "metadata": {},
   "outputs": [
    {
     "data": {
      "text/html": [
       "<div>\n",
       "<style scoped>\n",
       "    .dataframe tbody tr th:only-of-type {\n",
       "        vertical-align: middle;\n",
       "    }\n",
       "\n",
       "    .dataframe tbody tr th {\n",
       "        vertical-align: top;\n",
       "    }\n",
       "\n",
       "    .dataframe thead th {\n",
       "        text-align: right;\n",
       "    }\n",
       "</style>\n",
       "<table border=\"1\" class=\"dataframe\">\n",
       "  <thead>\n",
       "    <tr style=\"text-align: right;\">\n",
       "      <th></th>\n",
       "      <th>group</th>\n",
       "      <th>user_id</th>\n",
       "      <th>commission_revenue_pre</th>\n",
       "      <th>commission_revenue_exp</th>\n",
       "    </tr>\n",
       "  </thead>\n",
       "  <tbody>\n",
       "    <tr>\n",
       "      <th>427</th>\n",
       "      <td>control</td>\n",
       "      <td>a2c28aa2-be00-433e-b2ba-c0942569cd61</td>\n",
       "      <td>118.077501</td>\n",
       "      <td>131.503040</td>\n",
       "    </tr>\n",
       "    <tr>\n",
       "      <th>356</th>\n",
       "      <td>test</td>\n",
       "      <td>4fb4b9f9-17c7-40d9-993d-a3bc38158788</td>\n",
       "      <td>75.308008</td>\n",
       "      <td>71.385956</td>\n",
       "    </tr>\n",
       "    <tr>\n",
       "      <th>1028</th>\n",
       "      <td>test</td>\n",
       "      <td>bd952ad0-d2fb-4d5d-93d4-e9635f05bfb2</td>\n",
       "      <td>57.822044</td>\n",
       "      <td>58.550117</td>\n",
       "    </tr>\n",
       "    <tr>\n",
       "      <th>1895</th>\n",
       "      <td>test</td>\n",
       "      <td>70a0adf4-3cf4-450c-8f61-0bcea3d95a83</td>\n",
       "      <td>158.698903</td>\n",
       "      <td>135.279963</td>\n",
       "    </tr>\n",
       "    <tr>\n",
       "      <th>220</th>\n",
       "      <td>control</td>\n",
       "      <td>7c2b4400-2e29-4fab-926b-d6475d3366cd</td>\n",
       "      <td>72.672643</td>\n",
       "      <td>52.795449</td>\n",
       "    </tr>\n",
       "    <tr>\n",
       "      <th>745</th>\n",
       "      <td>test</td>\n",
       "      <td>950fd61b-75aa-44ce-a004-ed01070604aa</td>\n",
       "      <td>76.275739</td>\n",
       "      <td>117.632763</td>\n",
       "    </tr>\n",
       "    <tr>\n",
       "      <th>956</th>\n",
       "      <td>control</td>\n",
       "      <td>50f6100b-1037-4b68-946f-5c10ee8f1491</td>\n",
       "      <td>86.207136</td>\n",
       "      <td>42.884531</td>\n",
       "    </tr>\n",
       "    <tr>\n",
       "      <th>683</th>\n",
       "      <td>control</td>\n",
       "      <td>fa199b8c-0d9c-41a9-98de-ac7c9da29894</td>\n",
       "      <td>68.065260</td>\n",
       "      <td>52.034118</td>\n",
       "    </tr>\n",
       "    <tr>\n",
       "      <th>1169</th>\n",
       "      <td>control</td>\n",
       "      <td>e8417d43-dc1f-4d70-87eb-7b5723db78a4</td>\n",
       "      <td>159.578993</td>\n",
       "      <td>119.856559</td>\n",
       "    </tr>\n",
       "    <tr>\n",
       "      <th>1359</th>\n",
       "      <td>control</td>\n",
       "      <td>99baa565-18df-448d-821b-27f2e80a39ea</td>\n",
       "      <td>133.700096</td>\n",
       "      <td>135.306377</td>\n",
       "    </tr>\n",
       "    <tr>\n",
       "      <th>1161</th>\n",
       "      <td>control</td>\n",
       "      <td>975b158d-d461-4ab5-9f26-b07501365b33</td>\n",
       "      <td>141.814374</td>\n",
       "      <td>139.340410</td>\n",
       "    </tr>\n",
       "    <tr>\n",
       "      <th>965</th>\n",
       "      <td>control</td>\n",
       "      <td>295c287f-34c7-40e1-9db0-c90848c00abf</td>\n",
       "      <td>106.309342</td>\n",
       "      <td>145.653526</td>\n",
       "    </tr>\n",
       "    <tr>\n",
       "      <th>484</th>\n",
       "      <td>test</td>\n",
       "      <td>b9df1ce0-c099-4337-8fe7-1b69374350ae</td>\n",
       "      <td>131.754883</td>\n",
       "      <td>136.362607</td>\n",
       "    </tr>\n",
       "    <tr>\n",
       "      <th>449</th>\n",
       "      <td>control</td>\n",
       "      <td>8a9ce778-bea5-425b-bba7-41b7a45e9961</td>\n",
       "      <td>140.868539</td>\n",
       "      <td>147.216900</td>\n",
       "    </tr>\n",
       "    <tr>\n",
       "      <th>205</th>\n",
       "      <td>control</td>\n",
       "      <td>dc587076-af5c-4bd8-87c3-c8b308e061e7</td>\n",
       "      <td>105.446731</td>\n",
       "      <td>120.089513</td>\n",
       "    </tr>\n",
       "    <tr>\n",
       "      <th>197</th>\n",
       "      <td>test</td>\n",
       "      <td>132c2d7c-275c-42c1-a2ab-7f1056c8b33c</td>\n",
       "      <td>73.157880</td>\n",
       "      <td>70.394046</td>\n",
       "    </tr>\n",
       "    <tr>\n",
       "      <th>703</th>\n",
       "      <td>test</td>\n",
       "      <td>2728af85-a127-4b6d-bcce-cf0e3ce3c9c6</td>\n",
       "      <td>130.640239</td>\n",
       "      <td>146.619108</td>\n",
       "    </tr>\n",
       "    <tr>\n",
       "      <th>786</th>\n",
       "      <td>control</td>\n",
       "      <td>58f3ccb7-0ce9-498b-8eb0-65654b24e72e</td>\n",
       "      <td>100.750482</td>\n",
       "      <td>121.245905</td>\n",
       "    </tr>\n",
       "    <tr>\n",
       "      <th>1955</th>\n",
       "      <td>test</td>\n",
       "      <td>2e3d0f8b-d15a-45e8-8ad0-470ce660763d</td>\n",
       "      <td>63.969208</td>\n",
       "      <td>71.369702</td>\n",
       "    </tr>\n",
       "    <tr>\n",
       "      <th>1937</th>\n",
       "      <td>test</td>\n",
       "      <td>3b9d052c-35ab-43a6-8a84-f4f125735d18</td>\n",
       "      <td>114.820011</td>\n",
       "      <td>95.956529</td>\n",
       "    </tr>\n",
       "  </tbody>\n",
       "</table>\n",
       "</div>"
      ],
      "text/plain": [
       "        group                               user_id  commission_revenue_pre  \\\n",
       "427   control  a2c28aa2-be00-433e-b2ba-c0942569cd61              118.077501   \n",
       "356      test  4fb4b9f9-17c7-40d9-993d-a3bc38158788               75.308008   \n",
       "1028     test  bd952ad0-d2fb-4d5d-93d4-e9635f05bfb2               57.822044   \n",
       "1895     test  70a0adf4-3cf4-450c-8f61-0bcea3d95a83              158.698903   \n",
       "220   control  7c2b4400-2e29-4fab-926b-d6475d3366cd               72.672643   \n",
       "745      test  950fd61b-75aa-44ce-a004-ed01070604aa               76.275739   \n",
       "956   control  50f6100b-1037-4b68-946f-5c10ee8f1491               86.207136   \n",
       "683   control  fa199b8c-0d9c-41a9-98de-ac7c9da29894               68.065260   \n",
       "1169  control  e8417d43-dc1f-4d70-87eb-7b5723db78a4              159.578993   \n",
       "1359  control  99baa565-18df-448d-821b-27f2e80a39ea              133.700096   \n",
       "1161  control  975b158d-d461-4ab5-9f26-b07501365b33              141.814374   \n",
       "965   control  295c287f-34c7-40e1-9db0-c90848c00abf              106.309342   \n",
       "484      test  b9df1ce0-c099-4337-8fe7-1b69374350ae              131.754883   \n",
       "449   control  8a9ce778-bea5-425b-bba7-41b7a45e9961              140.868539   \n",
       "205   control  dc587076-af5c-4bd8-87c3-c8b308e061e7              105.446731   \n",
       "197      test  132c2d7c-275c-42c1-a2ab-7f1056c8b33c               73.157880   \n",
       "703      test  2728af85-a127-4b6d-bcce-cf0e3ce3c9c6              130.640239   \n",
       "786   control  58f3ccb7-0ce9-498b-8eb0-65654b24e72e              100.750482   \n",
       "1955     test  2e3d0f8b-d15a-45e8-8ad0-470ce660763d               63.969208   \n",
       "1937     test  3b9d052c-35ab-43a6-8a84-f4f125735d18              114.820011   \n",
       "\n",
       "      commission_revenue_exp  \n",
       "427               131.503040  \n",
       "356                71.385956  \n",
       "1028               58.550117  \n",
       "1895              135.279963  \n",
       "220                52.795449  \n",
       "745               117.632763  \n",
       "956                42.884531  \n",
       "683                52.034118  \n",
       "1169              119.856559  \n",
       "1359              135.306377  \n",
       "1161              139.340410  \n",
       "965               145.653526  \n",
       "484               136.362607  \n",
       "449               147.216900  \n",
       "205               120.089513  \n",
       "197                70.394046  \n",
       "703               146.619108  \n",
       "786               121.245905  \n",
       "1955               71.369702  \n",
       "1937               95.956529  "
      ]
     },
     "execution_count": 2,
     "metadata": {},
     "output_type": "execute_result"
    }
   ],
   "source": [
    "exp_data = pd.read_csv('./input/commission_revenue.csv')\n",
    "\n",
    "exp_data.sample(20)"
   ]
  },
  {
   "cell_type": "markdown",
   "id": "38131e11-db21-44ff-ba30-9ce71cee9e3d",
   "metadata": {},
   "source": [
    "Let's have a look at the average comission revenue during the experiment in two groups:"
   ]
  },
  {
   "cell_type": "code",
   "execution_count": 3,
   "id": "1cb034e6-4714-42f1-88e8-c3db4a5663f3",
   "metadata": {},
   "outputs": [
    {
     "name": "stdout",
     "output_type": "stream",
     "text": [
      "In a test group (new engine B) the metric is on average equal to 101.73\n",
      "In a control group (old engine A) the metric is on average equal to 99.24\n",
      "Relative increase is equal to 2.5%\n"
     ]
    }
   ],
   "source": [
    "commission_revenue_exp_test_avg = exp_data[exp_data['group'] == 'test']['commission_revenue_exp'].mean()\n",
    "commission_revenue_exp_control_avg = exp_data[exp_data['group'] == 'control']['commission_revenue_exp'].mean()\n",
    "\n",
    "print(f'In a test group (new engine B) the metric is on average equal to {commission_revenue_exp_test_avg:0.2f}')\n",
    "print(f'In a control group (old engine A) the metric is on average equal to {commission_revenue_exp_control_avg:0.2f}')\n",
    "print(f'Relative increase is equal to {100.0 * (commission_revenue_exp_test_avg / commission_revenue_exp_control_avg - 1):0.1f}%')"
   ]
  },
  {
   "cell_type": "markdown",
   "id": "f865679f-8b88-4440-9bbb-b0b770548941",
   "metadata": {},
   "source": [
    "Well, we have already known that engine B increases metric by two percent becuase data was synthetically created. But in real world we need to run some statistical procedures to understand whether this increase is statistically significant or not. Maybe we were just lucky to get this result."
   ]
  },
  {
   "cell_type": "markdown",
   "id": "7fba67a7-317b-4673-b3b5-f58a7595fa12",
   "metadata": {},
   "source": [
    "Using [Student's t-tets](https://en.wikipedia.org/wiki/Student%27s_t-test) we can test a hypothesis of zero difference in the averages of two groups. For this test let's use $alpha = 0.05$ meaning that we will test this hypothesis at 5% significance level."
   ]
  },
  {
   "cell_type": "code",
   "execution_count": 4,
   "id": "13b7b3d2-c192-4930-9e35-1ffb7870c02f",
   "metadata": {},
   "outputs": [
    {
     "data": {
      "text/plain": [
       "Ttest_indResult(statistic=1.8021000484396446, pvalue=0.0716803352566017)"
      ]
     },
     "execution_count": 4,
     "metadata": {},
     "output_type": "execute_result"
    }
   ],
   "source": [
    "stats.ttest_ind(\n",
    "    exp_data[exp_data['group'] == 'test']['commission_revenue_exp'], \n",
    "    exp_data[exp_data['group'] == 'control']['commission_revenue_exp']\n",
    ")"
   ]
  },
  {
   "cell_type": "markdown",
   "id": "55dba0da-2e5b-43ef-95e4-a9ec8da32abb",
   "metadata": {},
   "source": [
    "We got p-value somewhere near $0.07$ which is definetely greater than $0.05 / 2 = 0.025$. Then, we cannot reject the null hypothesis of equal averages. This means that we did not see any statististically significant imrovement in the target metric from the using new recommendation engine B in production."
   ]
  },
  {
   "cell_type": "markdown",
   "id": "6cfd4bc5-cdea-4cf2-95fa-518230205d6e",
   "metadata": {},
   "source": [
    "You may ask how this have happend, if we know that there must be a increase of 2%. When we have infinite number of observations, sample means are equal to population means (because of [central limit theorem](https://en.wikipedia.org/wiki/Central_limit_theorem)). Unfortunately, we have to operate with finite samples in our experiments. This introduces some variation in our estimates of parameters of distributions. So, we always have some margin of error in our estimates. And the sameller the sample size the bigger is the margin or error. When sample size is not big enough, we may not say for sure that the difference between two samples is not present because of random associated with finite sample size."
   ]
  },
  {
   "cell_type": "markdown",
   "id": "02eefd3d-fda3-4a3e-ad0a-3760804b9431",
   "metadata": {},
   "source": [
    "As we discussed earlier, CUPED can help us improve sensitivity by decreasing variance of the metric we compare between two groups. Ultimately, this mean that for the same sample size we can detect smaller changes in parameters. Let's make a CUPED transformation using `commission_revenue_pre`. We can do so, because `commission_revenue_pre` is highly likely to be correlated with `commission_revenue_exp` becuase this is the same metric of for the same users but in different time periods. But `commission_revenue_pre` if not affected by the new engine B because engine B was introduced after the metric was calculated. Hence, `commission_revenue_pre` is an amazing candidate for `X`."
   ]
  },
  {
   "cell_type": "markdown",
   "id": "2266ec70-d3ab-4b75-9aa1-ec1c81ad80c2",
   "metadata": {},
   "source": [
    "Having a closer look at the data, you can spot that now all users have a `commission_revenue_pre` defined. This is absolutely normal in real world - some user do not have pre-experiment data because they were not users before the experiment! We just need to understand what to do we \"newbies\". Here we can rely on experience of Booking.com on how to handle missing data. They [suggest](https://booking.ai/how-booking-com-increases-the-power-of-online-experiments-with-cuped-995d186fff1d) to do nothing to the metric in case pre-experiment data is not available. Idea behind this trick is straight forward. When there is a missing value, you want to fill it with an average derived from the samples where this value is not missing. So, you will plug $\\bar{X}$ into the $X_i$ in CUPED transformation and it will be cancelled out with $E(X)$ with big enough sample size!"
   ]
  },
  {
   "cell_type": "markdown",
   "id": "219e5b9c-d4b9-4876-9f61-e992695cb06a",
   "metadata": {},
   "source": [
    "Now, let's calculate $\\theta$, handle missing values and make sure that CUPED transformation yield an unbiased estimate:"
   ]
  },
  {
   "cell_type": "code",
   "execution_count": 5,
   "id": "eb8e3f3f-5f1c-41f1-8025-3d6fa2fae4a1",
   "metadata": {},
   "outputs": [
    {
     "data": {
      "text/plain": [
       "0.8887204637262932"
      ]
     },
     "execution_count": 5,
     "metadata": {},
     "output_type": "execute_result"
    }
   ],
   "source": [
    "not_null_pre = ~exp_data['commission_revenue_pre'].isna()\n",
    "\n",
    "theta = np.corrcoef([exp_data[not_null_pre]['commission_revenue_pre'], \n",
    "                     exp_data[not_null_pre]['commission_revenue_exp']])[0,1]\n",
    "theta"
   ]
  },
  {
   "cell_type": "code",
   "execution_count": 6,
   "id": "4f6d2db3-a997-4c17-ac7e-5b57d179c361",
   "metadata": {},
   "outputs": [],
   "source": [
    "exp_data['commission_revenue_exp_cuped'] = np.where(\n",
    "    not_null_pre,\n",
    "    exp_data['commission_revenue_exp'] - theta * (\n",
    "        exp_data['commission_revenue_pre'] - exp_data['commission_revenue_pre'].mean()\n",
    "    ),\n",
    "    exp_data['commission_revenue_exp']\n",
    ")"
   ]
  },
  {
   "cell_type": "code",
   "execution_count": 7,
   "id": "473b8719-6109-40a9-9698-cb30a6c0c7c3",
   "metadata": {},
   "outputs": [
    {
     "name": "stdout",
     "output_type": "stream",
     "text": [
      "In a test group (new engine B) the CUPED-metric is on average equal to 101.69\n",
      "In a control group (old engine A) the CUPED_metric is on average equal to 99.28\n",
      "Relative increase is equal to 2.4%\n"
     ]
    }
   ],
   "source": [
    "commission_revenue_exp_cuped_test_avg = exp_data[exp_data['group'] == 'test']['commission_revenue_exp_cuped'].mean()\n",
    "commission_revenue_exp_cuped_control_avg = exp_data[exp_data['group'] == 'control']['commission_revenue_exp_cuped'].mean()\n",
    "\n",
    "print(f'In a test group (new engine B) the CUPED-metric is on average equal to {commission_revenue_exp_cuped_test_avg:0.2f}')\n",
    "print(f'In a control group (old engine A) the CUPED_metric is on average equal to {commission_revenue_exp_cuped_control_avg:0.2f}')\n",
    "print(f'Relative increase is equal to {100.0 * (commission_revenue_exp_cuped_test_avg / commission_revenue_exp_cuped_control_avg - 1):0.1f}%')"
   ]
  },
  {
   "cell_type": "markdown",
   "id": "d4b31d79-3181-4f57-9e88-8adb8ac9f6da",
   "metadata": {},
   "source": [
    "In test group we got 101.73 before transformation and 101.69 after. There is 0.04 absolute difference that appears because of the fact that $\\bar{X} = E(X)$ only in limit where we have infinite number of samples. In our real world case sample size is finite, hence, we have some difference."
   ]
  },
  {
   "cell_type": "markdown",
   "id": "852faa75-cf76-45a1-bca2-d96967350f38",
   "metadata": {},
   "source": [
    "Somewhere above we have proved that variance of sample average CUPED-metric is $(1-\\rho^2)$ smaller, where $\\rho=\\theta$. So, we must see this in real data also."
   ]
  },
  {
   "cell_type": "code",
   "execution_count": 8,
   "id": "e712f0f5-9fb7-491d-a893-62f42891a125",
   "metadata": {},
   "outputs": [
    {
     "name": "stdout",
     "output_type": "stream",
     "text": [
      "Var(Y_bar) = 1.00\n",
      "Var(Y_CUPED_bar) = 0.21\n",
      "(1 - rho^2) = 0.210\n",
      "Var(Y_CUPED_bar) / Var(Y_bar) = 0.209\n"
     ]
    }
   ],
   "source": [
    "var_Y = np.std(exp_data[exp_data['group'] == 'test']['commission_revenue_exp'])**2\n",
    "var_Y_bar = var_Y / len(exp_data[exp_data['group'] == 'test'])\n",
    "\n",
    "var_Y_CUPED = np.std(exp_data[exp_data['group'] == 'test']['commission_revenue_exp_cuped'])**2\n",
    "var_Y_CUPED_bar = var_Y_CUPED / len(exp_data[exp_data['group'] == 'test'])\n",
    "\n",
    "print(f'Var(Y_bar) = {var_Y_bar:0.2f}')\n",
    "print(f'Var(Y_CUPED_bar) = {var_Y_CUPED_bar:0.2f}')\n",
    "print(f'(1 - rho^2) = {1 - theta**2:0.3f}')\n",
    "print(f'Var(Y_CUPED_bar) / Var(Y_bar) = {var_Y_CUPED_bar / var_Y_bar:0.3f}')"
   ]
  },
  {
   "cell_type": "markdown",
   "id": "926a8486-da75-4482-becd-5087966ca5f3",
   "metadata": {},
   "source": [
    "Amazing, empirics support theory!"
   ]
  },
  {
   "cell_type": "markdown",
   "id": "5cdcfb18-0584-47e7-a732-374d4257cce6",
   "metadata": {},
   "source": [
    "Decrease in variance can also be visualized easily. We assume that metric is normally distributed. Metric with lower variance would have \"slimmer\" probability mass function with \"taller\" peak:"
   ]
  },
  {
   "cell_type": "code",
   "execution_count": 9,
   "id": "cb234be6-e9d0-4459-ab1c-fa9dd9a4c49b",
   "metadata": {},
   "outputs": [
    {
     "data": {
      "image/png": "[encoded data removed]",
      "text/plain": [
       "<Figure size 800x500 with 1 Axes>"
      ]
     },
     "metadata": {},
     "output_type": "display_data"
    }
   ],
   "source": [
    "plt.figure(figsize=(8, 5))\n",
    "\n",
    "plt.hist(exp_data[exp_data['group'] == 'test']['commission_revenue_exp'], \n",
    "         bins=np.arange(0.0, 200.0, 10.0), \n",
    "         alpha=0.35,\n",
    "         label='Initial')\n",
    "\n",
    "plt.hist(exp_data[exp_data['group'] == 'test']['commission_revenue_exp_cuped'], \n",
    "         bins=np.arange(0.0, 200.0, 10.0), \n",
    "         alpha=0.35,\n",
    "         label='CUPED transformed')\n",
    "\n",
    "plt.legend()\n",
    "\n",
    "plt.xlabel('Comission Revenue')\n",
    "plt.ylabel('# users')\n",
    "\n",
    "plt.title('Distribution of initial and transformed Comission Revenue in the test group')\n",
    "\n",
    "plt.savefig('./output/distributions.png', bbox_inches='tight', dpi=100)\n",
    "\n",
    "plt.show()"
   ]
  },
  {
   "cell_type": "markdown",
   "id": "237de3a1-de74-46d1-a883-95134f5cc714",
   "metadata": {},
   "source": [
    "OK, we are sure that transformed metric is an unbised estimator both empirically and theoretically. We have seen that variance indeed decreases with such transformation. Now let's rerun our A/B test using transformed metric:"
   ]
  },
  {
   "cell_type": "code",
   "execution_count": 10,
   "id": "b279c09c-42c1-43f0-9694-da2788bc8d21",
   "metadata": {},
   "outputs": [
    {
     "data": {
      "text/plain": [
       "Ttest_indResult(statistic=3.724388123229215, pvalue=0.0002012172925032228)"
      ]
     },
     "execution_count": 10,
     "metadata": {},
     "output_type": "execute_result"
    }
   ],
   "source": [
    "stats.ttest_ind(\n",
    "    exp_data[exp_data['group'] == 'test']['commission_revenue_exp_cuped'], \n",
    "    exp_data[exp_data['group'] == 'control']['commission_revenue_exp_cuped']\n",
    ")"
   ]
  },
  {
   "cell_type": "markdown",
   "id": "8b7b677e-0cec-4028-b8bf-46b6747b5f1b",
   "metadata": {},
   "source": [
    "The p-value is $0.0002$ with is lower than $0.025$ by at least on order! Finally, we've got a statistically significant result! Now we have statistical proof of the fact that engine's B recommendations really increase commission revenue. Based on the results we recommend to roll-out new functionality to 100% users to increase the metric by two 2% of the full scale of a company."
   ]
  },
  {
   "cell_type": "markdown",
   "id": "39568d7a-fc53-4f85-97b7-42dbf4dbd9cc",
   "metadata": {},
   "source": [
    "### Conclusion"
   ]
  },
  {
   "cell_type": "markdown",
   "id": "f908be26-d6d7-47bb-8a44-07c6c08a600d",
   "metadata": {},
   "source": [
    "I hope now you understand what is CUPED and how it can be used to enchance you A/B experiments in production. \n",
    "\n",
    "If you have any questions, do not hesitate to reach me out on [LinkedIn](https://www.linkedin.com/in/igorkhomyanin/) :)"
   ]
  },
  {
   "cell_type": "markdown",
   "id": "cf7fa46f-c379-4d6b-9181-6f79638a4645",
   "metadata": {},
   "source": [
    "### References"
   ]
  },
  {
   "cell_type": "markdown",
   "id": "5cf04ed2-87a2-4859-ad7b-6ddc319faf8b",
   "metadata": {},
   "source": [
    "1. Kohavi, Ron & Deng, Alex & Xu, Ya & Walker, Toby. (2013). Improving the Sensitivity of Online Controlled Experiments by Utilizing Pre-Experiment Data. 10.1145/2433396.2433413. \n",
    "2. https://en.wikipedia.org/wiki/Student%27s_t-test\n",
    "3. https://en.wikipedia.org/wiki/Central_limit_theorem\n",
    "4. \"How Booking.com increases the power of online experiments with CUPED\" by Simon Jackson at https://booking.ai/how-booking-com-increases-the-power-of-online-experiments-with-cuped-995d186fff1d "
   ]
  }
 ],
 "metadata": {
  "kernelspec": {
   "display_name": "Python 3.11.0 (ds_env)",
   "language": "python",
   "name": "ds_env"
  },
  "language_info": {
   "codemirror_mode": {
    "name": "ipython",
    "version": 3
   },
   "file_extension": ".py",
   "mimetype": "text/x-python",
   "name": "python",
   "nbconvert_exporter": "python",
   "pygments_lexer": "ipython3",
   "version": "3.11.0"
  }
 },
 "nbformat": 4,
 "nbformat_minor": 5
}
